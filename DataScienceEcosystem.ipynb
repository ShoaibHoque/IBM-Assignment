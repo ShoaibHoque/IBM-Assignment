{
 "cells": [
  {
   "cell_type": "markdown",
   "id": "48130807-d4be-4dd4-9415-598010dfcd0e",
   "metadata": {},
   "source": [
    "# Data Science Tools and Ecosystem"
   ]
  },
  {
   "cell_type": "markdown",
   "id": "ed290026-4321-45c3-89b0-ad877cc1f41f",
   "metadata": {},
   "source": [
    "In this notebook, Data Science Tools and Ecosystem are summarized.\n"
   ]
  },
  {
   "cell_type": "markdown",
   "id": "64a296f2-d2f8-4df1-a3f4-e83eb00c428f",
   "metadata": {},
   "source": [
    "__Objectives:__\n",
    "\n",
    "- List of popular languages in Data Science\n",
    "- List of popular libraries in Data Science\n",
    "- Data Science Tools\n",
    "- Arithmetic Expression\n",
    "- Convert Minutes to Hour"
   ]
  },
  {
   "cell_type": "markdown",
   "id": "c1861aa0-78ed-4fa8-9adc-ed9f25ccfe80",
   "metadata": {},
   "source": [
    "Some of the popular languages that Data Scientists use are:\n",
    "\n",
    "1. Python Programming Language\n",
    "2. R Programming Language\n",
    "3. JavaScript \n"
   ]
  },
  {
   "cell_type": "markdown",
   "id": "3fddeb52-c03e-4f9f-93e8-fdfd1bad44ef",
   "metadata": {},
   "source": [
    "Some of the commonly used libraries used by Data Scientists include:\n",
    "\n",
    "1. Pandas\n",
    "2. Numpy\n",
    "3. Matplotlib\n",
    "4. sklearn\n",
    "5. tensorflow"
   ]
  },
  {
   "cell_type": "markdown",
   "id": "9d8a5022-1490-4179-8e11-6d6765244edb",
   "metadata": {},
   "source": [
    "| Data Science Tools |\n",
    "| ------------ |\n",
    "| Jupyter Notebook |\n",
    "| Anaconda |\n",
    "| IBM Watson Studio |"
   ]
  },
  {
   "cell_type": "markdown",
   "id": "6d50ff5c-4da4-4eaa-9d75-305ca90abe15",
   "metadata": {},
   "source": [
    "### There are a few examples of evaluating arithmetic expressions in Python shown below"
   ]
  },
  {
   "cell_type": "code",
   "execution_count": 7,
   "id": "6083a9f3-8542-4142-ad5a-c91457ad0f8b",
   "metadata": {},
   "outputs": [
    {
     "data": {
      "text/plain": [
       "17"
      ]
     },
     "execution_count": 7,
     "metadata": {},
     "output_type": "execute_result"
    }
   ],
   "source": [
    "(3*4)+5"
   ]
  },
  {
   "cell_type": "code",
   "execution_count": 11,
   "id": "5b2ee7e1-6df9-42e9-8cca-0ee8d435b4bd",
   "metadata": {},
   "outputs": [
    {
     "data": {
      "text/plain": [
       "3.3333333333333335"
      ]
     },
     "execution_count": 11,
     "metadata": {},
     "output_type": "execute_result"
    }
   ],
   "source": [
    "# This will convert 200 minutes to hours by diving by 60\n",
    "\n",
    "def convert(Minutes, Hour):\n",
    "    return (Minutes / Hour)\n",
    "\n",
    "convert(200, 60) "
   ]
  },
  {
   "cell_type": "markdown",
   "id": "277d699a-dfeb-460a-aff5-5c760cea1446",
   "metadata": {},
   "source": [
    "## Author\n",
    "Shoaib Hoque"
   ]
  }
 ],
 "metadata": {
  "kernelspec": {
   "display_name": "Python",
   "language": "python",
   "name": "conda-env-python-py"
  },
  "language_info": {
   "codemirror_mode": {
    "name": "ipython",
    "version": 3
   },
   "file_extension": ".py",
   "mimetype": "text/x-python",
   "name": "python",
   "nbconvert_exporter": "python",
   "pygments_lexer": "ipython3",
   "version": "3.7.12"
  }
 },
 "nbformat": 4,
 "nbformat_minor": 5
}
